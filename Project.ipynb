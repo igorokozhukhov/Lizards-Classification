{
 "cells": [
  {
   "cell_type": "markdown",
   "id": "661fcf27",
   "metadata": {},
   "source": [
    "Сначала подключим все необходимые библиотеки"
   ]
  },
  {
   "cell_type": "code",
   "execution_count": 1,
   "id": "84fffb07",
   "metadata": {
    "scrolled": true
   },
   "outputs": [
    {
     "data": {
      "text/html": [
       "<div>\n",
       "<style scoped>\n",
       "    .dataframe tbody tr th:only-of-type {\n",
       "        vertical-align: middle;\n",
       "    }\n",
       "\n",
       "    .dataframe tbody tr th {\n",
       "        vertical-align: top;\n",
       "    }\n",
       "\n",
       "    .dataframe thead th {\n",
       "        text-align: right;\n",
       "    }\n",
       "</style>\n",
       "<table border=\"1\" class=\"dataframe\">\n",
       "  <thead>\n",
       "    <tr style=\"text-align: right;\">\n",
       "      <th></th>\n",
       "      <th>Species_num</th>\n",
       "      <th>Sex_num</th>\n",
       "      <th>Sex</th>\n",
       "      <th>MBS</th>\n",
       "      <th>VSN</th>\n",
       "      <th>CSN</th>\n",
       "      <th>GSN</th>\n",
       "      <th>FPNr</th>\n",
       "      <th>SDLr</th>\n",
       "      <th>SCSr</th>\n",
       "      <th>...</th>\n",
       "      <th>SVL</th>\n",
       "      <th>TRL</th>\n",
       "      <th>HL</th>\n",
       "      <th>PL</th>\n",
       "      <th>ESD</th>\n",
       "      <th>HW</th>\n",
       "      <th>HH</th>\n",
       "      <th>MO</th>\n",
       "      <th>FFL</th>\n",
       "      <th>HFL</th>\n",
       "    </tr>\n",
       "  </thead>\n",
       "  <tbody>\n",
       "    <tr>\n",
       "      <th>0</th>\n",
       "      <td>1</td>\n",
       "      <td>1</td>\n",
       "      <td>M</td>\n",
       "      <td>54</td>\n",
       "      <td>22</td>\n",
       "      <td>10</td>\n",
       "      <td>25</td>\n",
       "      <td>18</td>\n",
       "      <td>27</td>\n",
       "      <td>6</td>\n",
       "      <td>...</td>\n",
       "      <td>52.8</td>\n",
       "      <td>25.8</td>\n",
       "      <td>18.0</td>\n",
       "      <td>12.8</td>\n",
       "      <td>6.2</td>\n",
       "      <td>7.9</td>\n",
       "      <td>4.8</td>\n",
       "      <td>10.5</td>\n",
       "      <td>17.2</td>\n",
       "      <td>31.5</td>\n",
       "    </tr>\n",
       "    <tr>\n",
       "      <th>1</th>\n",
       "      <td>1</td>\n",
       "      <td>1</td>\n",
       "      <td>M</td>\n",
       "      <td>49</td>\n",
       "      <td>25</td>\n",
       "      <td>12</td>\n",
       "      <td>24</td>\n",
       "      <td>17</td>\n",
       "      <td>25</td>\n",
       "      <td>9</td>\n",
       "      <td>...</td>\n",
       "      <td>62.0</td>\n",
       "      <td>29.0</td>\n",
       "      <td>21.1</td>\n",
       "      <td>14.0</td>\n",
       "      <td>7.2</td>\n",
       "      <td>9.1</td>\n",
       "      <td>5.1</td>\n",
       "      <td>10.2</td>\n",
       "      <td>20.0</td>\n",
       "      <td>33.0</td>\n",
       "    </tr>\n",
       "    <tr>\n",
       "      <th>2</th>\n",
       "      <td>1</td>\n",
       "      <td>1</td>\n",
       "      <td>M</td>\n",
       "      <td>50</td>\n",
       "      <td>25</td>\n",
       "      <td>9</td>\n",
       "      <td>25</td>\n",
       "      <td>19</td>\n",
       "      <td>27</td>\n",
       "      <td>6</td>\n",
       "      <td>...</td>\n",
       "      <td>60.0</td>\n",
       "      <td>29.5</td>\n",
       "      <td>19.9</td>\n",
       "      <td>13.9</td>\n",
       "      <td>7.5</td>\n",
       "      <td>8.6</td>\n",
       "      <td>4.9</td>\n",
       "      <td>11.0</td>\n",
       "      <td>19.9</td>\n",
       "      <td>34.0</td>\n",
       "    </tr>\n",
       "    <tr>\n",
       "      <th>3</th>\n",
       "      <td>1</td>\n",
       "      <td>1</td>\n",
       "      <td>M</td>\n",
       "      <td>49</td>\n",
       "      <td>24</td>\n",
       "      <td>11</td>\n",
       "      <td>21</td>\n",
       "      <td>20</td>\n",
       "      <td>25</td>\n",
       "      <td>5</td>\n",
       "      <td>...</td>\n",
       "      <td>61.5</td>\n",
       "      <td>29.8</td>\n",
       "      <td>21.5</td>\n",
       "      <td>14.8</td>\n",
       "      <td>7.2</td>\n",
       "      <td>9.8</td>\n",
       "      <td>4.8</td>\n",
       "      <td>11.1</td>\n",
       "      <td>19.5</td>\n",
       "      <td>33.2</td>\n",
       "    </tr>\n",
       "    <tr>\n",
       "      <th>4</th>\n",
       "      <td>1</td>\n",
       "      <td>1</td>\n",
       "      <td>M</td>\n",
       "      <td>50</td>\n",
       "      <td>22</td>\n",
       "      <td>9</td>\n",
       "      <td>26</td>\n",
       "      <td>19</td>\n",
       "      <td>25</td>\n",
       "      <td>5</td>\n",
       "      <td>...</td>\n",
       "      <td>56.0</td>\n",
       "      <td>27.2</td>\n",
       "      <td>19.2</td>\n",
       "      <td>16.0</td>\n",
       "      <td>7.8</td>\n",
       "      <td>8.6</td>\n",
       "      <td>4.9</td>\n",
       "      <td>10.5</td>\n",
       "      <td>19.2</td>\n",
       "      <td>34.2</td>\n",
       "    </tr>\n",
       "  </tbody>\n",
       "</table>\n",
       "<p>5 rows × 26 columns</p>\n",
       "</div>"
      ],
      "text/plain": [
       "   Species_num  Sex_num Sex  MBS  VSN  CSN  GSN  FPNr  SDLr  SCSr  ...   SVL  \\\n",
       "0            1        1   M   54   22   10   25    18    27     6  ...  52.8   \n",
       "1            1        1   M   49   25   12   24    17    25     9  ...  62.0   \n",
       "2            1        1   M   50   25    9   25    19    27     6  ...  60.0   \n",
       "3            1        1   M   49   24   11   21    20    25     5  ...  61.5   \n",
       "4            1        1   M   50   22    9   26    19    25     5  ...  56.0   \n",
       "\n",
       "    TRL    HL    PL  ESD   HW   HH    MO   FFL   HFL  \n",
       "0  25.8  18.0  12.8  6.2  7.9  4.8  10.5  17.2  31.5  \n",
       "1  29.0  21.1  14.0  7.2  9.1  5.1  10.2  20.0  33.0  \n",
       "2  29.5  19.9  13.9  7.5  8.6  4.9  11.0  19.9  34.0  \n",
       "3  29.8  21.5  14.8  7.2  9.8  4.8  11.1  19.5  33.2  \n",
       "4  27.2  19.2  16.0  7.8  8.6  4.9  10.5  19.2  34.2  \n",
       "\n",
       "[5 rows x 26 columns]"
      ]
     },
     "execution_count": 1,
     "metadata": {},
     "output_type": "execute_result"
    }
   ],
   "source": [
    "import pandas as pd\n",
    "import numpy as np\n",
    "import matplotlib.pyplot as plt\n",
    "import seaborn as sns\n",
    "from itertools import combinations\n",
    "from sklearn.model_selection import train_test_split, GridSearchCV, cross_val_score\n",
    "from sklearn.metrics import confusion_matrix, accuracy_score, classification_report\n",
    "from sklearn.tree import DecisionTreeClassifier, export_text\n",
    "from sklearn.decomposition import PCA\n",
    "\n",
    "# Загружаем датасет\n",
    "data = pd.read_csv('lizard_data.csv', delimiter=';')\n",
    "\n",
    "data.head()\n",
    "#data.info()"
   ]
  },
  {
   "cell_type": "markdown",
   "id": "4ed001ff",
   "metadata": {},
   "source": [
    "**1. Критерий, позволяющий наилучшим возможным образом отличать ящериц\n",
    "вида №5 от всех остальных ящериц и использующий только количество бедренных пор\n",
    "справа (FPNr).**  \n",
    "Подсказка: постройте и изучите распределение ящериц по FPNr в зависимости от их\n",
    "вида.\n"
   ]
  },
  {
   "cell_type": "code",
   "execution_count": 2,
   "id": "ad31c462",
   "metadata": {},
   "outputs": [
    {
     "data": {
      "image/png": "[encoded data removed]",
      "text/plain": [
       "<Figure size 432x288 with 1 Axes>"
      ]
     },
     "metadata": {
      "needs_background": "light"
     },
     "output_type": "display_data"
    }
   ],
   "source": [
    "# Построим график распределения FPNr в зависимости от вида\n",
    "sns.boxplot(x='Species_num', y='FPNr', data=data)\n",
    "plt.title('Распределение FPNr по видам')\n",
    "plt.show()\n"
   ]
  },
  {
   "cell_type": "code",
   "execution_count": 3,
   "id": "8ae02b8d",
   "metadata": {},
   "outputs": [],
   "source": [
    "# Визуально осмотрим график и выберем пороговое значение для FPNr\n",
    "\n",
    "h = 11.5 \n",
    "\n",
    "# Определим простую критериальную функцию\n",
    "def criterion_species_5(FPNr, threshold):\n",
    "    return '5' if FPNr < threshold else 'Other'\n",
    "\n",
    "# Применим критерий и оценим его эффективность\n",
    "data['predicted_species'] = data['FPNr'].apply(criterion_species_5, threshold=h)"
   ]
  },
  {
   "cell_type": "code",
   "execution_count": 4,
   "id": "de5b0bad",
   "metadata": {},
   "outputs": [
    {
     "name": "stdout",
     "output_type": "stream",
     "text": [
      "Матрица ошибок:\n",
      " [[ 24   0]\n",
      " [  1 539]]\n",
      "Точность: 0.99822695035461\n"
     ]
    }
   ],
   "source": [
    "# Вычислим матрицу ошибок и точность\n",
    "cm = confusion_matrix(data['Species_num'].apply(lambda x: '5' if x == 5 else 'Other'), data['predicted_species'])\n",
    "print(\"Матрица ошибок:\\n\", cm)\n",
    "accuracy = accuracy_score(data['Species_num'].apply(lambda x: '5' if x == 5 else 'Other'), data['predicted_species'])\n",
    "print(\"Точность:\", accuracy)"
   ]
  },
  {
   "cell_type": "code",
   "execution_count": 5,
   "id": "327f093f",
   "metadata": {},
   "outputs": [],
   "source": [
    "# Удалим столбец predicted_species\n",
    "data = data.drop('predicted_species', axis = 1)"
   ]
  },
  {
   "cell_type": "markdown",
   "id": "6001396a",
   "metadata": {},
   "source": [
    "**2. Создайте критерий, позволяющий наилучшим возможным образом отличать ящериц\n",
    "вида №5 от всех остальных ящериц и использующий две переменных из измеряемых\n",
    "морфометрических и фолидозных признаков.**  \n",
    "Подсказка: одним из способов нахождения наилучшей пары предсказывающих\n",
    "переменных (предикторов) может быть перебор всех возможных пар переменных.\n"
   ]
  },
  {
   "cell_type": "code",
   "execution_count": 8,
   "id": "d77518d2",
   "metadata": {},
   "outputs": [
    {
     "name": "stdout",
     "output_type": "stream",
     "text": [
      "Лучшая пара признаков: ('MBS', 'FPNr')\n",
      "Лучшие пороги значений: (40, 12)\n",
      "Лучшая средняя точность: 0.9937943262411348\n",
      "Для вида 5: MBS < 40 и FPNr < 12\n"
     ]
    }
   ],
   "source": [
    "# Функция, которая считает точность каждого критерия\n",
    "def calculate_accuracy_v(data, feature, threshold, target_value):\n",
    "    predicted_values = data[feature] < threshold\n",
    "    true_values = data['Species_num'] == target_value\n",
    "    accuracy = (predicted_values == true_values).mean()\n",
    "    return accuracy\n",
    "\n",
    "features = data.columns[3:]  # Выбираем столбцы с морфологическими признаками и признаками фоллидоза\n",
    "\n",
    "best_mean_accuracy = 0\n",
    "best_pair = None\n",
    "best_thresholds = (None, None)\n",
    "\n",
    "# Итерация через все возможные пары переменных и выбор наилучшей\n",
    "for f1, f2 in combinations(features, 2):\n",
    "    thresholds = {}\n",
    "    for feature in [f1, f2]:\n",
    "        accuracies = [calculate_accuracy_v(data, feature, threshold, 5) for threshold in data[feature].unique()]\n",
    "        best_index = np.argmax(accuracies)\n",
    "        best_threshold = data[feature].unique()[best_index]\n",
    "        thresholds[feature] = best_threshold\n",
    "\n",
    "    accuracy_f1 = calculate_accuracy_v(data, f1, thresholds[f1], 5)\n",
    "    accuracy_f2 = calculate_accuracy_v(data, f2, thresholds[f2], 5)\n",
    "    mean_accuracy = (accuracy_f1 + accuracy_f2) / 2\n",
    "\n",
    "    if mean_accuracy > best_mean_accuracy:\n",
    "        best_mean_accuracy = mean_accuracy\n",
    "        best_pair = (f1, f2)\n",
    "        best_thresholds = (thresholds[f1], thresholds[f2])\n",
    "\n",
    "print(\"Лучшая пара признаков:\", best_pair)\n",
    "print(\"Лучшие пороги значений:\", best_thresholds)\n",
    "print(\"Лучшая средняя точность:\", best_mean_accuracy)\n",
    "\n",
    "print(f\"Для вида 5: {best_pair[0]} < {best_thresholds[0]} и {best_pair[1]} < {best_thresholds[1]}\")"
   ]
  },
  {
   "cell_type": "code",
   "execution_count": 9,
   "id": "e3c760ab",
   "metadata": {},
   "outputs": [
    {
     "data": {
      "image/png": "[encoded data removed]",
      "text/plain": [
       "<Figure size 432x288 with 1 Axes>"
      ]
     },
     "metadata": {
      "needs_background": "light"
     },
     "output_type": "display_data"
    }
   ],
   "source": [
    "# Фильтруем данные для вида 5 и остальных\n",
    "species_5 = data[data['Species_num'] == 5]\n",
    "other_species = data[data['Species_num'] != 5]\n",
    "\n",
    "# Строим диаграмму рассеяния\n",
    "plt.scatter(species_5[best_pair[0]], species_5[best_pair[1]], label='Вид 5', c='blue', alpha=0.5)\n",
    "plt.scatter(other_species[best_pair[0]], other_species[best_pair[1]], label='Другие виды', c='red', alpha=0.5)\n",
    "\n",
    "\n",
    "plt.xlabel(best_pair[0])\n",
    "plt.ylabel(best_pair[1])\n",
    "plt.title(f'Диаграмма рассеяния для {best_pair[0]} и {best_pair[1]}')\n",
    "plt.legend()\n",
    "\n",
    "# Отобразим график\n",
    "plt.show()"
   ]
  },
  {
   "cell_type": "code",
   "execution_count": 10,
   "id": "a5cc32e7",
   "metadata": {},
   "outputs": [],
   "source": [
    "# Выберем пороговые значения для FPNr и MBS\n",
    "\n",
    "fpnr_value = 12\n",
    "mbs_value = 40\n",
    "\n",
    "# Определим простую критериальную функцию\n",
    "def criterion_species_5_2(FPNr, MBS, fpnr_value, mbs_value):\n",
    "    return '5' if  FPNr < fpnr_value and MBS < mbs_value else 'Other'\n",
    "\n",
    "# Применим критерий и оценим его эффективность\n",
    "data['predicted_species'] = data.apply(lambda row: criterion_species_5_2(row['FPNr'], row['MBS'], fpnr_value, mbs_value), axis=1)"
   ]
  },
  {
   "cell_type": "code",
   "execution_count": 11,
   "id": "b84cea08",
   "metadata": {},
   "outputs": [
    {
     "name": "stdout",
     "output_type": "stream",
     "text": [
      "Матрица ошибок:\n",
      " [[ 19   5]\n",
      " [  0 540]]\n",
      "Точность: 0.9911347517730497\n"
     ]
    }
   ],
   "source": [
    "# Вычислим матрицу ошибок и точность\n",
    "cm = confusion_matrix(data['Species_num'].apply(lambda x: '5' if x == 5 else 'Other'), data['predicted_species'])\n",
    "print(\"Матрица ошибок:\\n\", cm)\n",
    "accuracy = accuracy_score(data['Species_num'].apply(lambda x: '5' if x == 5 else 'Other'), data['predicted_species'])\n",
    "print(\"Точность:\", accuracy)"
   ]
  },
  {
   "cell_type": "code",
   "execution_count": 12,
   "id": "9753ba99",
   "metadata": {},
   "outputs": [],
   "source": [
    "# Удалим столбец predicted_species\n",
    "data = data.drop('predicted_species', axis = 1)"
   ]
  },
  {
   "cell_type": "markdown",
   "id": "d5a35e1e",
   "metadata": {},
   "source": [
    "**3. Создайте критерий, позволяющий наилучшим возможным образом предсказывать пол\n",
    "ящериц вне зависимости от их вида по морфометрическим признакам и/или признакам\n",
    "фолидоза.**  \n",
    "Подсказка от биологов: предполагается (но не гарантируется!), что пол будет\n",
    "взаимосвязан с отношениями некоторых измеряемых длин; но это не исключает\n",
    "участия в критерии и других предикторов.\n"
   ]
  },
  {
   "cell_type": "code",
   "execution_count": 13,
   "id": "7140cea2",
   "metadata": {},
   "outputs": [
    {
     "name": "stdout",
     "output_type": "stream",
     "text": [
      "Лучшая комбинация признаков: ('VSN', 'HL', 'PL', 'MO')\n",
      "Лучшая точность на тестовой выборке: 0.8529411764705882\n",
      "|--- VSN <= 24.50\n",
      "|   |--- MO <= 8.45\n",
      "|   |   |--- VSN <= 23.50\n",
      "|   |   |   |--- class: 1\n",
      "|   |   |--- VSN >  23.50\n",
      "|   |   |   |--- class: 2\n",
      "|   |--- MO >  8.45\n",
      "|   |   |--- PL <= 12.15\n",
      "|   |   |   |--- class: 1\n",
      "|   |   |--- PL >  12.15\n",
      "|   |   |   |--- class: 1\n",
      "|--- VSN >  24.50\n",
      "|   |--- VSN <= 25.50\n",
      "|   |   |--- PL <= 12.15\n",
      "|   |   |   |--- class: 2\n",
      "|   |   |--- PL >  12.15\n",
      "|   |   |   |--- class: 1\n",
      "|   |--- VSN >  25.50\n",
      "|   |   |--- HL <= 21.75\n",
      "|   |   |   |--- class: 2\n",
      "|   |   |--- HL >  21.75\n",
      "|   |   |   |--- class: 1\n",
      "\n"
     ]
    }
   ],
   "source": [
    "# Определим минимальное и максимальное количество признаков\n",
    "min_features = 2\n",
    "max_features = 4\n",
    "\n",
    "best_accuracy = 0\n",
    "best_combination = None\n",
    "best_tree = None\n",
    "\n",
    "# Проитерируемся по всем возможным комбинациям признаков\n",
    "for n_features in range(min_features, max_features + 1):\n",
    "    for feature_combination in combinations(features, n_features):\n",
    "        X = data[list(feature_combination)]\n",
    "        y = data['Sex_num']\n",
    "        X_train, X_test, y_train, y_test = train_test_split(X, y, test_size=0.3, random_state=42)\n",
    "\n",
    "        # Тренируем дерево решений с max_depth = 3\n",
    "        tree = DecisionTreeClassifier(max_depth=3, random_state=42)\n",
    "        tree.fit(X_train, y_train)\n",
    "\n",
    "        # Оценим производительность\n",
    "        y_pred = tree.predict(X_test)\n",
    "        accuracy = accuracy_score(y_test, y_pred)\n",
    "\n",
    "        if accuracy > best_accuracy:\n",
    "            best_accuracy = accuracy\n",
    "            best_combination = feature_combination\n",
    "            best_tree = tree\n",
    "\n",
    "print(\"Лучшая комбинация признаков:\", best_combination)\n",
    "print(\"Лучшая точность на тестовой выборке:\", best_accuracy)\n",
    "\n",
    "# Визуализируем дерево решений\n",
    "print(export_text(best_tree, feature_names=list(best_combination)))"
   ]
  },
  {
   "cell_type": "code",
   "execution_count": 14,
   "id": "0efddf55",
   "metadata": {},
   "outputs": [
    {
     "data": {
      "image/png": "[encoded data removed]",
      "text/plain": [
       "<Figure size 432x288 with 1 Axes>"
      ]
     },
     "metadata": {
      "needs_background": "light"
     },
     "output_type": "display_data"
    },
    {
     "data": {
      "image/png": "[encoded data removed]",
      "text/plain": [
       "<Figure size 432x288 with 1 Axes>"
      ]
     },
     "metadata": {
      "needs_background": "light"
     },
     "output_type": "display_data"
    },
    {
     "data": {
      "image/png": "[encoded data removed]",
      "text/plain": [
       "<Figure size 432x288 with 1 Axes>"
      ]
     },
     "metadata": {
      "needs_background": "light"
     },
     "output_type": "display_data"
    },
    {
     "data": {
      "image/png": "[encoded data removed]",
      "text/plain": [
       "<Figure size 432x288 with 1 Axes>"
      ]
     },
     "metadata": {
      "needs_background": "light"
     },
     "output_type": "display_data"
    }
   ],
   "source": [
    "# Итерируемся по каждому из лучших признаков\n",
    "for feature in best_combination:\n",
    "    fig, ax = plt.subplots()\n",
    "\n",
    "    # Разделяем данные для мужского и женского пола\n",
    "    male_data = data[data['Sex_num'] == 1][feature]\n",
    "    female_data = data[data['Sex_num'] == 2][feature]\n",
    "\n",
    "    # Строим гистограммы\n",
    "    ax.hist([male_data, female_data], bins=30, color=['blue', 'orange'], label=['Мужской', 'Женский'], alpha=0.7)\n",
    "\n",
    "    \n",
    "    ax.set_xlabel(feature)\n",
    "    ax.set_ylabel('Количество ящериц')\n",
    "    ax.set_title(f'Количество ящериц к {feature} (Гистограмма)')\n",
    "\n",
    "    ax.legend()\n",
    "\n",
    "    # Отобразим график\n",
    "    plt.show()"
   ]
  },
  {
   "cell_type": "code",
   "execution_count": 15,
   "id": "a1430261",
   "metadata": {},
   "outputs": [],
   "source": [
    "# Определим простую критериальную функцию\n",
    "def criterion_sex(VSN, HL, PL, MO):\n",
    "    return '2' if  (VSN <= 24.5 and MO <= 8.45 and VSN > 23.5) or (VSN == 25 and PL <= 12.15) or (VSN > 25.5 and HL <= 21.75) else '1'\n",
    "\n",
    "# Применим критерий и оценим его эффективность\n",
    "data['predicted_sex'] = data.apply(lambda row: criterion_sex(row['VSN'], row['MO'], row['PL'], row['HL']), axis=1)"
   ]
  },
  {
   "cell_type": "code",
   "execution_count": 16,
   "id": "9cf87f03",
   "metadata": {},
   "outputs": [
    {
     "name": "stdout",
     "output_type": "stream",
     "text": [
      "Матрица ошибок:\n",
      " [[250  25]\n",
      " [ 50 239]]\n",
      "Точность на всей выборке: 0.8670212765957447\n"
     ]
    }
   ],
   "source": [
    "# Вычислим матрицу ошибок и точность\n",
    "cm = confusion_matrix(data['Sex_num'].apply(lambda x: '2' if x == 2 else '1'), data['predicted_sex'])\n",
    "print(\"Матрица ошибок:\\n\", cm)\n",
    "accuracy = accuracy_score(data['Sex_num'].apply(lambda x: '2' if x == 2 else '1'), data['predicted_sex'])\n",
    "print(\"Точность на всей выборке:\", accuracy)"
   ]
  },
  {
   "cell_type": "code",
   "execution_count": 17,
   "id": "ed9d31d5",
   "metadata": {},
   "outputs": [],
   "source": [
    "# Удалим столбец predicted_species\n",
    "data = data.drop('predicted_sex', axis = 1)"
   ]
  },
  {
   "cell_type": "markdown",
   "id": "1ea73591",
   "metadata": {},
   "source": [
    "**4. Набор критериев,позволяющих наилучшим возможным образом отличать друг от друга все виды внутри\n",
    "следующих групп:  \n",
    "a) виды №6 и №7,  \n",
    "b) виды №1 и №2,  \n",
    "c) виды №3, №4 и №5.**\n"
   ]
  },
  {
   "cell_type": "code",
   "execution_count": 18,
   "id": "ddf29fb2",
   "metadata": {
    "scrolled": true
   },
   "outputs": [],
   "source": [
    "# Выбираем столбцы с морфологическими признаками и признаками фоллидоза\n",
    "features = data.columns[3:]\n",
    "\n",
    "def best_pair_for_group(data, species_group):\n",
    "    data_group = data[data['Species_num'].isin(species_group)]\n",
    "    best_accuracy = 0\n",
    "    best_pair = None\n",
    "    best_tree = None\n",
    "\n",
    "    for f1, f2, f3 in combinations(features, 3):\n",
    "        X = data_group[[f1, f2, f3]]\n",
    "        y = data_group['Species_num']\n",
    "        X_train, X_test, y_train, y_test = train_test_split(X, y, test_size=0.3, random_state=42)\n",
    "\n",
    "        tree = DecisionTreeClassifier(max_depth=3, random_state=42)\n",
    "        tree.fit(X_train, y_train)\n",
    "\n",
    "        y_pred = tree.predict(X_test)\n",
    "        accuracy = accuracy_score(y_test, y_pred)\n",
    "\n",
    "        if accuracy > best_accuracy:\n",
    "            best_accuracy = accuracy\n",
    "            best_pair = (f1, f2, f3)\n",
    "            best_tree = tree\n",
    "\n",
    "    return best_pair, best_accuracy, best_tree\n",
    "\n",
    "# Определим группы видов\n",
    "species_groups = [\n",
    "    ('Группа A', [6, 7]),\n",
    "    ('Группа B', [1, 2]),\n",
    "    ('Группа C', [3, 4, 5])\n",
    "]"
   ]
  },
  {
   "cell_type": "markdown",
   "id": "cfb052dd",
   "metadata": {},
   "source": [
    "a) виды № 6 и № 7"
   ]
  },
  {
   "cell_type": "code",
   "execution_count": 19,
   "id": "33821839",
   "metadata": {},
   "outputs": [
    {
     "name": "stdout",
     "output_type": "stream",
     "text": [
      "Лучший набор признаков для Группа A: ('VSN', 'GSN', 'FPNr')\n",
      "Лучшая точность тестовой выборки для Группа A: 1.0\n",
      "Дерево решений для Группа A:\n",
      "|--- GSN <= 25.50\n",
      "|   |--- FPNr <= 18.50\n",
      "|   |   |--- GSN <= 24.50\n",
      "|   |   |   |--- class: 6\n",
      "|   |   |--- GSN >  24.50\n",
      "|   |   |   |--- class: 6\n",
      "|   |--- FPNr >  18.50\n",
      "|   |   |--- class: 7\n",
      "|--- GSN >  25.50\n",
      "|   |--- FPNr <= 16.00\n",
      "|   |   |--- class: 6\n",
      "|   |--- FPNr >  16.00\n",
      "|   |   |--- GSN <= 26.50\n",
      "|   |   |   |--- class: 7\n",
      "|   |   |--- GSN >  26.50\n",
      "|   |   |   |--- class: 7\n",
      "\n"
     ]
    },
    {
     "data": {
      "image/png": "[encoded data removed]",
      "text/plain": [
       "<Figure size 432x288 with 1 Axes>"
      ]
     },
     "metadata": {
      "needs_background": "light"
     },
     "output_type": "display_data"
    },
    {
     "data": {
      "image/png": "[encoded data removed]",
      "text/plain": [
       "<Figure size 432x288 with 1 Axes>"
      ]
     },
     "metadata": {
      "needs_background": "light"
     },
     "output_type": "display_data"
    },
    {
     "data": {
      "image/png": "[encoded data removed]",
      "text/plain": [
       "<Figure size 432x288 with 1 Axes>"
      ]
     },
     "metadata": {
      "needs_background": "light"
     },
     "output_type": "display_data"
    }
   ],
   "source": [
    "group_name, species_group = species_groups[0]\n",
    "\n",
    "best_pair, best_accuracy, best_tree = best_pair_for_group(data, species_group)\n",
    "print(f\"Лучший набор признаков для {group_name}:\", best_pair)\n",
    "print(f\"Лучшая точность тестовой выборки для {group_name}:\", best_accuracy)\n",
    "\n",
    "# Визуализируем дерево решений\n",
    "print(f\"Дерево решений для {group_name}:\")\n",
    "print(export_text(best_tree, feature_names=list(best_pair)))\n",
    "    \n",
    "\n",
    "# Проитерируемся через каждый признак в best_pair\n",
    "for feature in best_pair:\n",
    "    fig, ax = plt.subplots()\n",
    "\n",
    "    # Разделим данные для каждого вида в группе\n",
    "    group_data = [data[data['Species_num'] == species][feature] for species in species_group]\n",
    "\n",
    "    # Построим гистограммы для каждого вида\n",
    "    ax.hist(group_data, bins=30, alpha=0.7, label=[f'Вид {i}' for i in species_group])\n",
    "\n",
    "    # Добавим названия и метки\n",
    "    ax.set_xlabel(feature)\n",
    "    ax.set_ylabel('Количество ящериц')\n",
    "    ax.set_title(f'Количество ящериц к {feature} (Гистограмма) - {group_name}')\n",
    "\n",
    "    ax.legend()\n",
    "\n",
    "    # Отобразим графики\n",
    "    plt.show()"
   ]
  },
  {
   "cell_type": "code",
   "execution_count": 21,
   "id": "52d3ca47",
   "metadata": {},
   "outputs": [],
   "source": [
    "# Определим простую критериальную функцию\n",
    "def criterion_species_5_4_1(GSN, VSN, FPNr):\n",
    "    return '6' if (GSN <= 25.5 and FPNr <= 18.5) or (GSN > 25.5 and FPNr <= 16)  else '7'\n",
    "\n",
    "# Применим критерий и оценим его эффективность\n",
    "data_group = data[data['Species_num'].isin(species_group)]\n",
    "data_group.loc[:, 'predicted_species'] = data_group.apply(lambda row: criterion_species_5_4_1(row['GSN'], row['VSN'], row['FPNr']), axis=1)"
   ]
  },
  {
   "cell_type": "code",
   "execution_count": 22,
   "id": "ba8ae95a",
   "metadata": {
    "scrolled": true
   },
   "outputs": [
    {
     "name": "stdout",
     "output_type": "stream",
     "text": [
      "Матрица ошибок:\n",
      " [[119   1]\n",
      " [  3  19]]\n",
      "Точность: 0.971830985915493\n"
     ]
    }
   ],
   "source": [
    "# Вычислим матрицу ошибок и точность\n",
    "cm = confusion_matrix(data_group['Species_num'].apply(lambda x: '6' if x == 6 else '7'), data_group['predicted_species'])\n",
    "print(\"Матрица ошибок:\\n\", cm)\n",
    "accuracy = accuracy_score(data_group['Species_num'].apply(lambda x: '6' if x == 6 else '7'), data_group['predicted_species'])\n",
    "print(\"Точность:\", accuracy)"
   ]
  },
  {
   "cell_type": "code",
   "execution_count": 23,
   "id": "c3e0346f",
   "metadata": {},
   "outputs": [],
   "source": [
    "# Удалим столбец predicted_species\n",
    "data_group = data_group.drop('predicted_species', axis = 1)"
   ]
  },
  {
   "cell_type": "markdown",
   "id": "ee845a3c",
   "metadata": {},
   "source": [
    "b) виды № 1 и № 2"
   ]
  },
  {
   "cell_type": "code",
   "execution_count": 24,
   "id": "c976b221",
   "metadata": {},
   "outputs": [
    {
     "name": "stdout",
     "output_type": "stream",
     "text": [
      "Лучший набор признаков для Группа B: ('VSN', 'MTr', 'HL')\n",
      "Лучшая точность тестовой выборки для Группа B: 0.9743589743589743\n",
      "Дерево решений для Группа B:\n",
      "|--- MTr <= 2.50\n",
      "|   |--- HL <= 19.85\n",
      "|   |   |--- VSN <= 25.50\n",
      "|   |   |   |--- class: 2\n",
      "|   |   |--- VSN >  25.50\n",
      "|   |   |   |--- class: 2\n",
      "|   |--- HL >  19.85\n",
      "|   |   |--- VSN <= 21.50\n",
      "|   |   |   |--- class: 2\n",
      "|   |   |--- VSN >  21.50\n",
      "|   |   |   |--- class: 1\n",
      "|--- MTr >  2.50\n",
      "|   |--- HL <= 18.65\n",
      "|   |   |--- MTr <= 3.50\n",
      "|   |   |   |--- class: 2\n",
      "|   |   |--- MTr >  3.50\n",
      "|   |   |   |--- class: 1\n",
      "|   |--- HL >  18.65\n",
      "|   |   |--- class: 1\n",
      "\n"
     ]
    },
    {
     "data": {
      "image/png": "[encoded data removed]",
      "text/plain": [
       "<Figure size 432x288 with 1 Axes>"
      ]
     },
     "metadata": {
      "needs_background": "light"
     },
     "output_type": "display_data"
    },
    {
     "data": {
      "image/png": "[encoded data removed]",
      "text/plain": [
       "<Figure size 432x288 with 1 Axes>"
      ]
     },
     "metadata": {
      "needs_background": "light"
     },
     "output_type": "display_data"
    },
    {
     "data": {
      "image/png": "[encoded data removed]",
      "text/plain": [
       "<Figure size 432x288 with 1 Axes>"
      ]
     },
     "metadata": {
      "needs_background": "light"
     },
     "output_type": "display_data"
    }
   ],
   "source": [
    "group_name, species_group = species_groups[1]\n",
    "\n",
    "best_pair, best_accuracy, best_tree = best_pair_for_group(data, species_group)\n",
    "print(f\"Лучший набор признаков для {group_name}:\", best_pair)\n",
    "print(f\"Лучшая точность тестовой выборки для {group_name}:\", best_accuracy)\n",
    "\n",
    "# Визуализируем дерево решений\n",
    "print(f\"Дерево решений для {group_name}:\")\n",
    "print(export_text(best_tree, feature_names=list(best_pair)))\n",
    "    \n",
    "\n",
    "# Проитерируемся через каждый признак в best_pair\n",
    "for feature in best_pair:\n",
    "    fig, ax = plt.subplots()\n",
    "\n",
    "    # Разделим данные для каждого вида в группе\n",
    "    group_data = [data[data['Species_num'] == species][feature] for species in species_group]\n",
    "\n",
    "    # Построим гистограммы для каждого вида\n",
    "    ax.hist(group_data, bins=30, alpha=0.7, label=[f'Вид {i}' for i in species_group])\n",
    "\n",
    "    # Добавим названия и метки\n",
    "    ax.set_xlabel(feature)\n",
    "    ax.set_ylabel('Количество ящериц')\n",
    "    ax.set_title(f'Количество ящериц к {feature} (Гистограмма) - {group_name}')\n",
    "\n",
    "    ax.legend()\n",
    "\n",
    "    # Отобразим график\n",
    "    plt.show()"
   ]
  },
  {
   "cell_type": "code",
   "execution_count": 26,
   "id": "c8bd8a29",
   "metadata": {},
   "outputs": [],
   "source": [
    "# Определим простую критериальную функцию\n",
    "def criterion_species_5_4_2(MTr, HL, VSN):\n",
    "    return '2' if (MTr <= 2.5 and HL <= 19.85) or (MTr <= 2.5 and HL > 19.85 and VSN <= 21.5) or (MTr == 3 and HL <= 18.65) else '1'\n",
    "\n",
    "# Применим критерий и оценим его эффективность\n",
    "data_group = data[data['Species_num'].isin(species_group)]\n",
    "data_group.loc[:, 'predicted_species'] = data_group.apply(lambda row: criterion_species_5_4_2(row['MTr'], row['HL'], row['VSN']), axis=1)"
   ]
  },
  {
   "cell_type": "code",
   "execution_count": 27,
   "id": "e6cf1d8e",
   "metadata": {},
   "outputs": [
    {
     "name": "stdout",
     "output_type": "stream",
     "text": [
      "Матрица ошибок:\n",
      " [[58  8]\n",
      " [ 2 61]]\n",
      "Точность: 0.9224806201550387\n"
     ]
    }
   ],
   "source": [
    "# Вычислим матрицу ошибок и точность\n",
    "cm = confusion_matrix(data_group['Species_num'].apply(lambda x: '2' if x == 2 else '1'), data_group['predicted_species'])\n",
    "print(\"Матрица ошибок:\\n\", cm)\n",
    "accuracy = accuracy_score(data_group['Species_num'].apply(lambda x: '2' if x == 2 else '1'), data_group['predicted_species'])\n",
    "print(\"Точность:\", accuracy)"
   ]
  },
  {
   "cell_type": "code",
   "execution_count": 28,
   "id": "b965fc51",
   "metadata": {},
   "outputs": [],
   "source": [
    "# Удалим столбец predicted_species\n",
    "data_group = data_group.drop('predicted_species', axis = 1)"
   ]
  },
  {
   "cell_type": "markdown",
   "id": "bc7fc8dd",
   "metadata": {},
   "source": [
    "c) виды № 3, № 4, и № 5"
   ]
  },
  {
   "cell_type": "code",
   "execution_count": 29,
   "id": "371317e0",
   "metadata": {},
   "outputs": [
    {
     "name": "stdout",
     "output_type": "stream",
     "text": [
      "Лучший набор признаков для Группа C: ('CSN', 'FPNr', 'SCGr')\n",
      "Лучшая точность тестовой выборки для Группа C: 0.9878048780487805\n",
      "Дерево решений для Группа C:\n",
      "|--- FPNr <= 17.50\n",
      "|   |--- FPNr <= 11.50\n",
      "|   |   |--- CSN <= 9.50\n",
      "|   |   |   |--- class: 5\n",
      "|   |   |--- CSN >  9.50\n",
      "|   |   |   |--- class: 4\n",
      "|   |--- FPNr >  11.50\n",
      "|   |   |--- SCGr <= 3.50\n",
      "|   |   |   |--- class: 4\n",
      "|   |   |--- SCGr >  3.50\n",
      "|   |   |   |--- class: 3\n",
      "|--- FPNr >  17.50\n",
      "|   |--- SCGr <= 8.50\n",
      "|   |   |--- CSN <= 7.50\n",
      "|   |   |   |--- class: 3\n",
      "|   |   |--- CSN >  7.50\n",
      "|   |   |   |--- class: 4\n",
      "|   |--- SCGr >  8.50\n",
      "|   |   |--- CSN <= 9.50\n",
      "|   |   |   |--- class: 3\n",
      "|   |   |--- CSN >  9.50\n",
      "|   |   |   |--- class: 4\n",
      "\n"
     ]
    },
    {
     "data": {
      "image/png": "[encoded data removed]",
      "text/plain": [
       "<Figure size 432x288 with 1 Axes>"
      ]
     },
     "metadata": {
      "needs_background": "light"
     },
     "output_type": "display_data"
    },
    {
     "data": {
      "image/png": "[encoded data removed]",
      "text/plain": [
       "<Figure size 432x288 with 1 Axes>"
      ]
     },
     "metadata": {
      "needs_background": "light"
     },
     "output_type": "display_data"
    },
    {
     "data": {
      "image/png": "[encoded data removed]",
      "text/plain": [
       "<Figure size 432x288 with 1 Axes>"
      ]
     },
     "metadata": {
      "needs_background": "light"
     },
     "output_type": "display_data"
    }
   ],
   "source": [
    "group_name, species_group = species_groups[2]\n",
    "\n",
    "best_pair, best_accuracy, best_tree = best_pair_for_group(data, species_group)\n",
    "print(f\"Лучший набор признаков для {group_name}:\", best_pair)\n",
    "print(f\"Лучшая точность тестовой выборки для {group_name}:\", best_accuracy)\n",
    "\n",
    "# Визуализируем дерево решений\n",
    "print(f\"Дерево решений для {group_name}:\")\n",
    "print(export_text(best_tree, feature_names=list(best_pair)))\n",
    "    \n",
    "\n",
    "# Проитерируемся через каждый признак в best_pair\n",
    "for feature in best_pair:\n",
    "    fig, ax = plt.subplots()\n",
    "\n",
    "    # Разделим данные для каждого вида в группе\n",
    "    group_data = [data[data['Species_num'] == species][feature] for species in species_group]\n",
    "\n",
    "    # Построим гистограммы для каждого вида\n",
    "    ax.hist(group_data, bins=30, alpha=0.7, label=[f'Вид {i}' for i in species_group])\n",
    "\n",
    "    # Добавим названия и метки\n",
    "    ax.set_xlabel(feature)\n",
    "    ax.set_ylabel('Количество ящериц')\n",
    "    ax.set_title(f'Количество ящериц к {feature} (Гистограмма) - {group_name}')\n",
    "\n",
    "    ax.legend()\n",
    "\n",
    "    # Отобразим график\n",
    "    plt.show()"
   ]
  },
  {
   "cell_type": "code",
   "execution_count": 31,
   "id": "0f1c7836",
   "metadata": {},
   "outputs": [],
   "source": [
    "# Определим простую критериальную функцию\n",
    "def criterion_species_5_4_3(FPNr, SCGr, CSN):\n",
    "    if (FPNr <= 17.5 and FPNr > 11.5 and SCGr > 3.5) or (FPNr > 17.5 and SCGr > 8.5 and CSN <= 9.5) or (FPNr > 17.5 and SCGr <= 8.5 and CSN <= 7.5):\n",
    "        return '3'\n",
    "    if (FPNr <= 11.5 and CSN <= 9.5):\n",
    "        return '5'\n",
    "    else:\n",
    "        return '4'\n",
    "\n",
    "# Применим критерий и оценим его эффективность\n",
    "data_group = data[data['Species_num'].isin(species_group)]\n",
    "data_group.loc[:, 'predicted_species'] = data_group.apply(lambda row: criterion_species_5_4_3(row['FPNr'], row['SCGr'], row['CSN']), axis=1)"
   ]
  },
  {
   "cell_type": "code",
   "execution_count": 32,
   "id": "f1ffca91",
   "metadata": {},
   "outputs": [
    {
     "name": "stdout",
     "output_type": "stream",
     "text": [
      "Матрица ошибок:\n",
      " [[155   1   0]\n",
      " [  4  89   0]\n",
      " [  0   0  24]]\n",
      "Точность: 0.9816849816849816\n"
     ]
    }
   ],
   "source": [
    "# Вычислим матрицу ошибок и точность\n",
    "cm = confusion_matrix(data_group['Species_num'].apply(lambda x: '3' if x == 3 else '4' if x == 4 else '5'), data_group['predicted_species'])\n",
    "print(\"Матрица ошибок:\\n\", cm)\n",
    "accuracy = accuracy_score(data_group['Species_num'].apply(lambda x: '3' if x == 3 else '4' if x == 4 else '5'), data_group['predicted_species'])\n",
    "print(\"Точность:\", accuracy)"
   ]
  },
  {
   "cell_type": "code",
   "execution_count": 33,
   "id": "6ce0dc4b",
   "metadata": {},
   "outputs": [],
   "source": [
    "# Удалим столбец predicted_species\n",
    "data_group = data_group.drop('predicted_species', axis = 1)"
   ]
  },
  {
   "cell_type": "markdown",
   "id": "4da99f22",
   "metadata": {},
   "source": [
    "**5. Критерий или набор критериев, позволяющий наилучшим возможным\n",
    "образом предсказывать вид или вид и пол ящериц во всей их совокупности (это может\n",
    "понадобиться биологам, если они не знают место отлова ящерицы).**\n"
   ]
  },
  {
   "cell_type": "code",
   "execution_count": 34,
   "id": "ab494c36",
   "metadata": {},
   "outputs": [],
   "source": [
    "from sklearn.decomposition import PCA\n",
    "from sklearn.metrics import accuracy_score, confusion_matrix, classification_report\n",
    "from sklearn.model_selection import GridSearchCV, cross_val_score\n",
    "\n",
    "# Подготовим данные, объединив целевые переменные (пол и видовой состав) в один столбец.\n",
    "data['Sex_Species'] = data['Sex_num'].astype(str) + \"_\" + data['Species_num'].astype(str)\n",
    "\n",
    "features = data.columns[3:-1]  # Выберем столбцы с морфологическими признаками и признаками фоллидоза\n",
    "X = data[features]\n",
    "y = data['Sex_Species']\n",
    "X_train, X_test, y_train, y_test = train_test_split(X, y, test_size=0.3, random_state=42)\n",
    "\n",
    "# Применим PCA для уменьшения размерности\n",
    "pca = PCA(n_components=0.95)\n",
    "X_train_pca = pca.fit_transform(X_train)\n",
    "X_test_pca = pca.transform(X_test)\n",
    "\n",
    "# Создайте дерево решений\n",
    "tree = DecisionTreeClassifier(random_state=42)\n",
    "\n",
    "# Определим сетку гиперпараметров для поиска\n",
    "param_grid = {\n",
    "    'max_depth': range(2, 11),\n",
    "    'min_samples_split': range(2, 11)\n",
    "}\n",
    "\n",
    "# Создадим объект GridSearchCV с 5-кратной кросс-валидацией\n",
    "grid_search = GridSearchCV(tree, param_grid, cv=5, scoring='accuracy', n_jobs=-1)\n",
    "grid_search.fit(X_train_pca, y_train)\n",
    "\n",
    "# Получим лучшие гиперпараметры и подготовим наилучшее дерево решений\n",
    "best_params = grid_search.best_params_\n",
    "best_tree = DecisionTreeClassifier(max_depth=best_params['max_depth'], min_samples_split=best_params['min_samples_split'], random_state=42)\n",
    "best_tree.fit(X_train_pca, y_train)\n",
    "\n",
    "# Оценим производительность с помощью кросс-валидации\n",
    "cv_scores = cross_val_score(best_tree, X_train_pca, y_train, cv=5)\n",
    "\n",
    "# Протестируем наилучшее дерево решений на тестовом наборе\n",
    "#y_pred = best_tree.predict(X_test_pca)\n",
    "#accuracy = accuracy_score(y_test, y_pred)\n",
    "#conf_matrix = confusion_matrix(y_test, y_pred)\n",
    "#report = classification_report(y_test, y_pred)\n",
    "\n",
    "#print(\"Best hyperparameters:\", best_params)\n",
    "#print(\"Cross-validation scores:\", cv_scores)\n",
    "#print(\"Mean cross-validation score:\", cv_scores.mean())\n",
    "#print(\"Accuracy on the test set:\", accuracy)\n",
    "#print(\"\\nConfusion Matrix:\\n\", conf_matrix)\n",
    "#print(\"\\nClassification Report:\\n\", report)"
   ]
  },
  {
   "cell_type": "code",
   "execution_count": 35,
   "id": "87ec20bc",
   "metadata": {},
   "outputs": [
    {
     "name": "stdout",
     "output_type": "stream",
     "text": [
      "\n",
      "Точность на всем датасете: 0.9326241134751773\n",
      "\n",
      "Матрица ошибок на всем датасете:\n",
      " [[ 39   2   0   0   0   1   0   0   0   0   0   0   0   0]\n",
      " [  0  43   1   0   0   0   1   0   1   0   0   0   0   0]\n",
      " [  0   0 112   0   0   1   0   0   1   0   0   0   0   0]\n",
      " [  0   0   0  48   0   0   0   0   0   0   0   0   0   0]\n",
      " [  0   0   0   0  10   0   0   0   1   0   0   0   0   0]\n",
      " [  0   0   0   0   0  14   0   0   0   0   0   0   0   0]\n",
      " [  1   0   0   0   0   4  18   0   1   0   0   0   0   0]\n",
      " [  0   3   0   0   0   1   0  13   0   0   0   0   0   0]\n",
      " [  0   0   2   0   0   0   0   0  40   0   0   0   0   0]\n",
      " [  0   3   1   1   0   1   0   0   2  37   0   0   0   0]\n",
      " [  0   0   0   0   0   1   0   0   0   0  11   1   0   0]\n",
      " [  0   0   2   0   0   1   0   0   0   0   0 117   0   0]\n",
      " [  0   0   0   0   0   0   0   0   0   0   0   0  22   0]\n",
      " [  0   0   0   0   0   4   0   0   0   0   0   0   0   2]]\n",
      "\n",
      "Отчет о классификации по всему набору данных:\n",
      "               precision    recall  f1-score   support\n",
      "\n",
      "         1_1       0.97      0.93      0.95        42\n",
      "         1_2       0.84      0.93      0.89        46\n",
      "         1_3       0.95      0.98      0.97       114\n",
      "         1_4       0.98      1.00      0.99        48\n",
      "         1_5       1.00      0.91      0.95        11\n",
      "         1_8       0.50      1.00      0.67        14\n",
      "         2_1       0.95      0.75      0.84        24\n",
      "         2_2       1.00      0.76      0.87        17\n",
      "         2_3       0.87      0.95      0.91        42\n",
      "         2_4       1.00      0.82      0.90        45\n",
      "         2_5       1.00      0.85      0.92        13\n",
      "         2_6       0.99      0.97      0.98       120\n",
      "         2_7       1.00      1.00      1.00        22\n",
      "         2_8       1.00      0.33      0.50         6\n",
      "\n",
      "    accuracy                           0.93       564\n",
      "   macro avg       0.93      0.87      0.88       564\n",
      "weighted avg       0.95      0.93      0.93       564\n",
      "\n"
     ]
    }
   ],
   "source": [
    "best_tree.fit(X, y)\n",
    "\n",
    "y_pred = best_tree.predict(X)\n",
    "accuracy = accuracy_score(y, y_pred)\n",
    "conf_matrix = confusion_matrix(y, y_pred)\n",
    "report = classification_report(y, y_pred)\n",
    "\n",
    "print(\"\\nТочность на всем датасете:\", accuracy)\n",
    "print(\"\\nМатрица ошибок на всем датасете:\\n\", conf_matrix)\n",
    "print(\"\\nОтчет о классификации по всему набору данных:\\n\", report)"
   ]
  },
  {
   "cell_type": "code",
   "execution_count": 36,
   "id": "853fd06b",
   "metadata": {},
   "outputs": [
    {
     "name": "stdout",
     "output_type": "stream",
     "text": [
      "Дерево решений:\n",
      "|--- VSN <= 25.50\n",
      "|   |--- ESD <= 7.65\n",
      "|   |   |--- MBS <= 46.50\n",
      "|   |   |   |--- FPNr <= 11.50\n",
      "|   |   |   |   |--- VSN <= 22.50\n",
      "|   |   |   |   |   |--- class: 1_5\n",
      "|   |   |   |   |--- VSN >  22.50\n",
      "|   |   |   |   |   |--- class: 2_5\n",
      "|   |   |   |--- FPNr >  11.50\n",
      "|   |   |   |   |--- MO <= 10.22\n",
      "|   |   |   |   |   |--- MO <= 7.95\n",
      "|   |   |   |   |   |   |--- HH <= 4.65\n",
      "|   |   |   |   |   |   |   |--- class: 1_3\n",
      "|   |   |   |   |   |   |--- HH >  4.65\n",
      "|   |   |   |   |   |   |   |--- class: 2_3\n",
      "|   |   |   |   |   |--- MO >  7.95\n",
      "|   |   |   |   |   |   |--- TRL <= 29.80\n",
      "|   |   |   |   |   |   |   |--- class: 1_3\n",
      "|   |   |   |   |   |   |--- TRL >  29.80\n",
      "|   |   |   |   |   |   |   |--- class: 2_3\n",
      "|   |   |   |   |--- MO >  10.22\n",
      "|   |   |   |   |   |--- class: 1_8\n",
      "|   |   |--- MBS >  46.50\n",
      "|   |   |   |--- FFL <= 18.85\n",
      "|   |   |   |   |--- MTr <= 2.50\n",
      "|   |   |   |   |   |--- HW <= 7.05\n",
      "|   |   |   |   |   |   |--- MBS <= 49.50\n",
      "|   |   |   |   |   |   |   |--- class: 2_2\n",
      "|   |   |   |   |   |   |--- MBS >  49.50\n",
      "|   |   |   |   |   |   |   |--- class: 1_2\n",
      "|   |   |   |   |   |--- HW >  7.05\n",
      "|   |   |   |   |   |   |--- SCSr <= 7.00\n",
      "|   |   |   |   |   |   |   |--- class: 1_2\n",
      "|   |   |   |   |   |   |--- SCSr >  7.00\n",
      "|   |   |   |   |   |   |   |--- class: 1_1\n",
      "|   |   |   |   |--- MTr >  2.50\n",
      "|   |   |   |   |   |--- HFL <= 30.60\n",
      "|   |   |   |   |   |   |--- HH <= 4.50\n",
      "|   |   |   |   |   |   |   |--- class: 2_1\n",
      "|   |   |   |   |   |   |--- HH >  4.50\n",
      "|   |   |   |   |   |   |   |--- class: 1_2\n",
      "|   |   |   |   |   |--- HFL >  30.60\n",
      "|   |   |   |   |   |   |--- class: 1_1\n",
      "|   |   |   |--- FFL >  18.85\n",
      "|   |   |   |   |--- MBS <= 47.50\n",
      "|   |   |   |   |   |--- HL <= 18.65\n",
      "|   |   |   |   |   |   |--- class: 1_3\n",
      "|   |   |   |   |   |--- HL >  18.65\n",
      "|   |   |   |   |   |   |--- class: 2_4\n",
      "|   |   |   |   |--- MBS >  47.50\n",
      "|   |   |   |   |   |--- SCSr <= 4.50\n",
      "|   |   |   |   |   |   |--- class: 1_2\n",
      "|   |   |   |   |   |--- SCSr >  4.50\n",
      "|   |   |   |   |   |   |--- aNDSr <= 2.75\n",
      "|   |   |   |   |   |   |   |--- class: 1_1\n",
      "|   |   |   |   |   |   |--- aNDSr >  2.75\n",
      "|   |   |   |   |   |   |   |--- class: 1_1\n",
      "|   |--- ESD >  7.65\n",
      "|   |   |--- HFL <= 32.90\n",
      "|   |   |   |--- PA <= 1.50\n",
      "|   |   |   |   |--- MBS <= 45.50\n",
      "|   |   |   |   |   |--- MO <= 9.25\n",
      "|   |   |   |   |   |   |--- class: 1_4\n",
      "|   |   |   |   |   |--- MO >  9.25\n",
      "|   |   |   |   |   |   |--- MBS <= 42.50\n",
      "|   |   |   |   |   |   |   |--- class: 1_3\n",
      "|   |   |   |   |   |   |--- MBS >  42.50\n",
      "|   |   |   |   |   |   |   |--- class: 1_8\n",
      "|   |   |   |   |--- MBS >  45.50\n",
      "|   |   |   |   |   |--- class: 2_4\n",
      "|   |   |   |--- PA >  1.50\n",
      "|   |   |   |   |--- MO <= 8.65\n",
      "|   |   |   |   |   |--- HFL <= 29.40\n",
      "|   |   |   |   |   |   |--- HW <= 7.95\n",
      "|   |   |   |   |   |   |   |--- class: 2_3\n",
      "|   |   |   |   |   |   |--- HW >  7.95\n",
      "|   |   |   |   |   |   |   |--- class: 1_3\n",
      "|   |   |   |   |   |--- HFL >  29.40\n",
      "|   |   |   |   |   |   |--- MBS <= 42.50\n",
      "|   |   |   |   |   |   |   |--- class: 2_3\n",
      "|   |   |   |   |   |   |--- MBS >  42.50\n",
      "|   |   |   |   |   |   |   |--- class: 1_3\n",
      "|   |   |   |   |--- MO >  8.65\n",
      "|   |   |   |   |   |--- aNDSr <= 2.35\n",
      "|   |   |   |   |   |   |--- SCGr <= 7.50\n",
      "|   |   |   |   |   |   |   |--- class: 2_6\n",
      "|   |   |   |   |   |   |--- SCGr >  7.50\n",
      "|   |   |   |   |   |   |   |--- class: 1_3\n",
      "|   |   |   |   |   |--- aNDSr >  2.35\n",
      "|   |   |   |   |   |   |--- SCGr <= 2.50\n",
      "|   |   |   |   |   |   |   |--- class: 1_5\n",
      "|   |   |   |   |   |   |--- SCGr >  2.50\n",
      "|   |   |   |   |   |   |   |--- class: 1_3\n",
      "|   |   |--- HFL >  32.90\n",
      "|   |   |   |--- PA <= 1.50\n",
      "|   |   |   |   |--- TRL <= 40.50\n",
      "|   |   |   |   |   |--- ESD <= 7.95\n",
      "|   |   |   |   |   |   |--- class: 1_1\n",
      "|   |   |   |   |   |--- ESD >  7.95\n",
      "|   |   |   |   |   |   |--- TRL <= 28.75\n",
      "|   |   |   |   |   |   |   |--- class: 1_4\n",
      "|   |   |   |   |   |   |--- TRL >  28.75\n",
      "|   |   |   |   |   |   |   |--- class: 1_4\n",
      "|   |   |   |   |--- TRL >  40.50\n",
      "|   |   |   |   |   |--- FFL <= 25.15\n",
      "|   |   |   |   |   |   |--- class: 2_4\n",
      "|   |   |   |   |   |--- FFL >  25.15\n",
      "|   |   |   |   |   |   |--- class: 1_4\n",
      "|   |   |   |--- PA >  1.50\n",
      "|   |   |   |   |--- ESD <= 8.60\n",
      "|   |   |   |   |   |--- class: 1_1\n",
      "|   |   |   |   |--- ESD >  8.60\n",
      "|   |   |   |   |   |--- VSN <= 24.50\n",
      "|   |   |   |   |   |   |--- SCGr <= 7.50\n",
      "|   |   |   |   |   |   |   |--- class: 1_4\n",
      "|   |   |   |   |   |   |--- SCGr >  7.50\n",
      "|   |   |   |   |   |   |   |--- class: 1_3\n",
      "|   |   |   |   |   |--- VSN >  24.50\n",
      "|   |   |   |   |   |   |--- class: 2_4\n",
      "|--- VSN >  25.50\n",
      "|   |--- MTr <= 1.50\n",
      "|   |   |--- SDLr <= 22.50\n",
      "|   |   |   |--- SCGr <= 10.00\n",
      "|   |   |   |   |--- HFL <= 32.45\n",
      "|   |   |   |   |   |--- class: 2_6\n",
      "|   |   |   |   |--- HFL >  32.45\n",
      "|   |   |   |   |   |--- SVL <= 61.30\n",
      "|   |   |   |   |   |   |--- class: 1_3\n",
      "|   |   |   |   |   |--- SVL >  61.30\n",
      "|   |   |   |   |   |   |--- class: 2_6\n",
      "|   |   |   |--- SCGr >  10.00\n",
      "|   |   |   |   |--- class: 1_3\n",
      "|   |   |--- SDLr >  22.50\n",
      "|   |   |   |--- aNDSr <= 2.25\n",
      "|   |   |   |   |--- PL <= 10.75\n",
      "|   |   |   |   |   |--- class: 2_2\n",
      "|   |   |   |   |--- PL >  10.75\n",
      "|   |   |   |   |   |--- class: 2_1\n",
      "|   |   |   |--- aNDSr >  2.25\n",
      "|   |   |   |   |--- HFL <= 30.75\n",
      "|   |   |   |   |   |--- class: 2_3\n",
      "|   |   |   |   |--- HFL >  30.75\n",
      "|   |   |   |   |   |--- class: 2_4\n",
      "|   |--- MTr >  1.50\n",
      "|   |   |--- GSN <= 28.50\n",
      "|   |   |   |--- SDLr <= 21.50\n",
      "|   |   |   |   |--- SCGr <= 9.50\n",
      "|   |   |   |   |   |--- SDLr <= 18.50\n",
      "|   |   |   |   |   |   |--- aNDSr <= 2.75\n",
      "|   |   |   |   |   |   |   |--- class: 1_8\n",
      "|   |   |   |   |   |   |--- aNDSr >  2.75\n",
      "|   |   |   |   |   |   |   |--- class: 2_8\n",
      "|   |   |   |   |   |--- SDLr >  18.50\n",
      "|   |   |   |   |   |   |--- class: 2_6\n",
      "|   |   |   |   |--- SCGr >  9.50\n",
      "|   |   |   |   |   |--- ESD <= 6.05\n",
      "|   |   |   |   |   |   |--- HH <= 4.70\n",
      "|   |   |   |   |   |   |   |--- class: 2_2\n",
      "|   |   |   |   |   |   |--- HH >  4.70\n",
      "|   |   |   |   |   |   |   |--- class: 1_8\n",
      "|   |   |   |   |   |--- ESD >  6.05\n",
      "|   |   |   |   |   |   |--- CSN <= 7.50\n",
      "|   |   |   |   |   |   |   |--- class: 1_3\n",
      "|   |   |   |   |   |   |--- CSN >  7.50\n",
      "|   |   |   |   |   |   |   |--- class: 2_7\n",
      "|   |   |   |--- SDLr >  21.50\n",
      "|   |   |   |   |--- MTr <= 3.50\n",
      "|   |   |   |   |   |--- FFL <= 16.05\n",
      "|   |   |   |   |   |   |--- class: 2_2\n",
      "|   |   |   |   |   |--- FFL >  16.05\n",
      "|   |   |   |   |   |   |--- aNDSr <= 2.55\n",
      "|   |   |   |   |   |   |   |--- class: 1_8\n",
      "|   |   |   |   |   |   |--- aNDSr >  2.55\n",
      "|   |   |   |   |   |   |   |--- class: 2_3\n",
      "|   |   |   |   |--- MTr >  3.50\n",
      "|   |   |   |   |   |--- HW <= 8.50\n",
      "|   |   |   |   |   |   |--- class: 2_1\n",
      "|   |   |   |   |   |--- HW >  8.50\n",
      "|   |   |   |   |   |   |--- class: 1_1\n",
      "|   |   |--- GSN >  28.50\n",
      "|   |   |   |--- MO <= 10.70\n",
      "|   |   |   |   |--- VSN <= 28.50\n",
      "|   |   |   |   |   |--- class: 2_4\n",
      "|   |   |   |   |--- VSN >  28.50\n",
      "|   |   |   |   |   |--- class: 2_7\n",
      "|   |   |   |--- MO >  10.70\n",
      "|   |   |   |   |--- SVL <= 62.00\n",
      "|   |   |   |   |   |--- class: 2_7\n",
      "|   |   |   |   |--- SVL >  62.00\n",
      "|   |   |   |   |   |--- class: 1_4\n",
      "\n"
     ]
    }
   ],
   "source": [
    "# Визуализируем дерево решений\n",
    "print(f\"Дерево решений:\")\n",
    "print(export_text(best_tree, feature_names=list(features)))"
   ]
  },
  {
   "cell_type": "code",
   "execution_count": 37,
   "id": "3dd2d2a8",
   "metadata": {},
   "outputs": [],
   "source": [
    "# Удалим столбец Sex_Species\n",
    "data = data.drop('Sex_Species', axis = 1)"
   ]
  }
 ],
 "metadata": {
  "kernelspec": {
   "display_name": "Python 3",
   "language": "python",
   "name": "python3"
  },
  "language_info": {
   "codemirror_mode": {
    "name": "ipython",
    "version": 3
   },
   "file_extension": ".py",
   "mimetype": "text/x-python",
   "name": "python",
   "nbconvert_exporter": "python",
   "pygments_lexer": "ipython3",
   "version": "3.8.8"
  }
 },
 "nbformat": 4,
 "nbformat_minor": 5
}
